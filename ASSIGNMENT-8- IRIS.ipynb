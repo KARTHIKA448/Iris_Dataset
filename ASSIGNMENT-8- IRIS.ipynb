{
 "cells": [
  {
   "cell_type": "markdown",
   "id": "2029959d",
   "metadata": {},
   "source": [
    "# BASIC"
   ]
  },
  {
   "cell_type": "code",
   "execution_count": 59,
   "id": "785c0458",
   "metadata": {},
   "outputs": [],
   "source": [
    "import pandas as pd"
   ]
  },
  {
   "cell_type": "code",
   "execution_count": 2,
   "id": "4db687b7",
   "metadata": {},
   "outputs": [],
   "source": [
    "# iris=pd.read_csv(\"Iris.csv.xls\")\n",
    "# iris"
   ]
  },
  {
   "cell_type": "code",
   "execution_count": 119,
   "id": "6d9939be",
   "metadata": {
    "collapsed": true
   },
   "outputs": [
    {
     "data": {
      "text/html": [
       "<div>\n",
       "<style scoped>\n",
       "    .dataframe tbody tr th:only-of-type {\n",
       "        vertical-align: middle;\n",
       "    }\n",
       "\n",
       "    .dataframe tbody tr th {\n",
       "        vertical-align: top;\n",
       "    }\n",
       "\n",
       "    .dataframe thead th {\n",
       "        text-align: right;\n",
       "    }\n",
       "</style>\n",
       "<table border=\"1\" class=\"dataframe\">\n",
       "  <thead>\n",
       "    <tr style=\"text-align: right;\">\n",
       "      <th></th>\n",
       "      <th>SepalLengthCm</th>\n",
       "      <th>SepalWidthCm</th>\n",
       "      <th>PetalLengthCm</th>\n",
       "      <th>PetalWidthCm</th>\n",
       "      <th>Species</th>\n",
       "    </tr>\n",
       "    <tr>\n",
       "      <th>Id</th>\n",
       "      <th></th>\n",
       "      <th></th>\n",
       "      <th></th>\n",
       "      <th></th>\n",
       "      <th></th>\n",
       "    </tr>\n",
       "  </thead>\n",
       "  <tbody>\n",
       "    <tr>\n",
       "      <th>1</th>\n",
       "      <td>5.1</td>\n",
       "      <td>3.5</td>\n",
       "      <td>1.4</td>\n",
       "      <td>0.2</td>\n",
       "      <td>Iris-setosa</td>\n",
       "    </tr>\n",
       "    <tr>\n",
       "      <th>2</th>\n",
       "      <td>4.9</td>\n",
       "      <td>3.0</td>\n",
       "      <td>1.4</td>\n",
       "      <td>0.2</td>\n",
       "      <td>Iris-setosa</td>\n",
       "    </tr>\n",
       "    <tr>\n",
       "      <th>3</th>\n",
       "      <td>4.7</td>\n",
       "      <td>3.2</td>\n",
       "      <td>1.3</td>\n",
       "      <td>0.2</td>\n",
       "      <td>Iris-setosa</td>\n",
       "    </tr>\n",
       "    <tr>\n",
       "      <th>4</th>\n",
       "      <td>4.6</td>\n",
       "      <td>3.1</td>\n",
       "      <td>1.5</td>\n",
       "      <td>0.2</td>\n",
       "      <td>Iris-setosa</td>\n",
       "    </tr>\n",
       "    <tr>\n",
       "      <th>5</th>\n",
       "      <td>5.0</td>\n",
       "      <td>3.6</td>\n",
       "      <td>1.4</td>\n",
       "      <td>0.2</td>\n",
       "      <td>Iris-setosa</td>\n",
       "    </tr>\n",
       "    <tr>\n",
       "      <th>...</th>\n",
       "      <td>...</td>\n",
       "      <td>...</td>\n",
       "      <td>...</td>\n",
       "      <td>...</td>\n",
       "      <td>...</td>\n",
       "    </tr>\n",
       "    <tr>\n",
       "      <th>146</th>\n",
       "      <td>6.7</td>\n",
       "      <td>3.0</td>\n",
       "      <td>5.2</td>\n",
       "      <td>2.3</td>\n",
       "      <td>Iris-virginica</td>\n",
       "    </tr>\n",
       "    <tr>\n",
       "      <th>147</th>\n",
       "      <td>6.3</td>\n",
       "      <td>2.5</td>\n",
       "      <td>5.0</td>\n",
       "      <td>1.9</td>\n",
       "      <td>Iris-virginica</td>\n",
       "    </tr>\n",
       "    <tr>\n",
       "      <th>148</th>\n",
       "      <td>6.5</td>\n",
       "      <td>3.0</td>\n",
       "      <td>5.2</td>\n",
       "      <td>2.0</td>\n",
       "      <td>Iris-virginica</td>\n",
       "    </tr>\n",
       "    <tr>\n",
       "      <th>149</th>\n",
       "      <td>6.2</td>\n",
       "      <td>3.4</td>\n",
       "      <td>5.4</td>\n",
       "      <td>2.3</td>\n",
       "      <td>Iris-virginica</td>\n",
       "    </tr>\n",
       "    <tr>\n",
       "      <th>150</th>\n",
       "      <td>5.9</td>\n",
       "      <td>3.0</td>\n",
       "      <td>5.1</td>\n",
       "      <td>1.8</td>\n",
       "      <td>Iris-virginica</td>\n",
       "    </tr>\n",
       "  </tbody>\n",
       "</table>\n",
       "<p>150 rows × 5 columns</p>\n",
       "</div>"
      ],
      "text/plain": [
       "     SepalLengthCm  SepalWidthCm  PetalLengthCm  PetalWidthCm         Species\n",
       "Id                                                                           \n",
       "1              5.1           3.5            1.4           0.2     Iris-setosa\n",
       "2              4.9           3.0            1.4           0.2     Iris-setosa\n",
       "3              4.7           3.2            1.3           0.2     Iris-setosa\n",
       "4              4.6           3.1            1.5           0.2     Iris-setosa\n",
       "5              5.0           3.6            1.4           0.2     Iris-setosa\n",
       "..             ...           ...            ...           ...             ...\n",
       "146            6.7           3.0            5.2           2.3  Iris-virginica\n",
       "147            6.3           2.5            5.0           1.9  Iris-virginica\n",
       "148            6.5           3.0            5.2           2.0  Iris-virginica\n",
       "149            6.2           3.4            5.4           2.3  Iris-virginica\n",
       "150            5.9           3.0            5.1           1.8  Iris-virginica\n",
       "\n",
       "[150 rows x 5 columns]"
      ]
     },
     "execution_count": 119,
     "metadata": {},
     "output_type": "execute_result"
    }
   ],
   "source": [
    "iris=pd.read_csv(\"Iris.csv.xls\",index_col=\"Id\")\n",
    "iris"
   ]
  },
  {
   "cell_type": "code",
   "execution_count": 120,
   "id": "ef4ad8cb",
   "metadata": {
    "scrolled": false
   },
   "outputs": [
    {
     "data": {
      "text/html": [
       "<div>\n",
       "<style scoped>\n",
       "    .dataframe tbody tr th:only-of-type {\n",
       "        vertical-align: middle;\n",
       "    }\n",
       "\n",
       "    .dataframe tbody tr th {\n",
       "        vertical-align: top;\n",
       "    }\n",
       "\n",
       "    .dataframe thead th {\n",
       "        text-align: right;\n",
       "    }\n",
       "</style>\n",
       "<table border=\"1\" class=\"dataframe\">\n",
       "  <thead>\n",
       "    <tr style=\"text-align: right;\">\n",
       "      <th></th>\n",
       "      <th>SepalLengthCm</th>\n",
       "      <th>SepalWidthCm</th>\n",
       "      <th>PetalLengthCm</th>\n",
       "      <th>PetalWidthCm</th>\n",
       "      <th>Species</th>\n",
       "    </tr>\n",
       "    <tr>\n",
       "      <th>Id</th>\n",
       "      <th></th>\n",
       "      <th></th>\n",
       "      <th></th>\n",
       "      <th></th>\n",
       "      <th></th>\n",
       "    </tr>\n",
       "  </thead>\n",
       "  <tbody>\n",
       "    <tr>\n",
       "      <th>1</th>\n",
       "      <td>5.1</td>\n",
       "      <td>3.5</td>\n",
       "      <td>1.4</td>\n",
       "      <td>0.2</td>\n",
       "      <td>Iris-setosa</td>\n",
       "    </tr>\n",
       "    <tr>\n",
       "      <th>2</th>\n",
       "      <td>4.9</td>\n",
       "      <td>3.0</td>\n",
       "      <td>1.4</td>\n",
       "      <td>0.2</td>\n",
       "      <td>Iris-setosa</td>\n",
       "    </tr>\n",
       "    <tr>\n",
       "      <th>3</th>\n",
       "      <td>4.7</td>\n",
       "      <td>3.2</td>\n",
       "      <td>1.3</td>\n",
       "      <td>0.2</td>\n",
       "      <td>Iris-setosa</td>\n",
       "    </tr>\n",
       "    <tr>\n",
       "      <th>4</th>\n",
       "      <td>4.6</td>\n",
       "      <td>3.1</td>\n",
       "      <td>1.5</td>\n",
       "      <td>0.2</td>\n",
       "      <td>Iris-setosa</td>\n",
       "    </tr>\n",
       "    <tr>\n",
       "      <th>5</th>\n",
       "      <td>5.0</td>\n",
       "      <td>3.6</td>\n",
       "      <td>1.4</td>\n",
       "      <td>0.2</td>\n",
       "      <td>Iris-setosa</td>\n",
       "    </tr>\n",
       "    <tr>\n",
       "      <th>...</th>\n",
       "      <td>...</td>\n",
       "      <td>...</td>\n",
       "      <td>...</td>\n",
       "      <td>...</td>\n",
       "      <td>...</td>\n",
       "    </tr>\n",
       "    <tr>\n",
       "      <th>146</th>\n",
       "      <td>6.7</td>\n",
       "      <td>3.0</td>\n",
       "      <td>5.2</td>\n",
       "      <td>2.3</td>\n",
       "      <td>Iris-virginica</td>\n",
       "    </tr>\n",
       "    <tr>\n",
       "      <th>147</th>\n",
       "      <td>6.3</td>\n",
       "      <td>2.5</td>\n",
       "      <td>5.0</td>\n",
       "      <td>1.9</td>\n",
       "      <td>Iris-virginica</td>\n",
       "    </tr>\n",
       "    <tr>\n",
       "      <th>148</th>\n",
       "      <td>6.5</td>\n",
       "      <td>3.0</td>\n",
       "      <td>5.2</td>\n",
       "      <td>2.0</td>\n",
       "      <td>Iris-virginica</td>\n",
       "    </tr>\n",
       "    <tr>\n",
       "      <th>149</th>\n",
       "      <td>6.2</td>\n",
       "      <td>3.4</td>\n",
       "      <td>5.4</td>\n",
       "      <td>2.3</td>\n",
       "      <td>Iris-virginica</td>\n",
       "    </tr>\n",
       "    <tr>\n",
       "      <th>150</th>\n",
       "      <td>5.9</td>\n",
       "      <td>3.0</td>\n",
       "      <td>5.1</td>\n",
       "      <td>1.8</td>\n",
       "      <td>Iris-virginica</td>\n",
       "    </tr>\n",
       "  </tbody>\n",
       "</table>\n",
       "<p>150 rows × 5 columns</p>\n",
       "</div>"
      ],
      "text/plain": [
       "     SepalLengthCm  SepalWidthCm  PetalLengthCm  PetalWidthCm         Species\n",
       "Id                                                                           \n",
       "1              5.1           3.5            1.4           0.2     Iris-setosa\n",
       "2              4.9           3.0            1.4           0.2     Iris-setosa\n",
       "3              4.7           3.2            1.3           0.2     Iris-setosa\n",
       "4              4.6           3.1            1.5           0.2     Iris-setosa\n",
       "5              5.0           3.6            1.4           0.2     Iris-setosa\n",
       "..             ...           ...            ...           ...             ...\n",
       "146            6.7           3.0            5.2           2.3  Iris-virginica\n",
       "147            6.3           2.5            5.0           1.9  Iris-virginica\n",
       "148            6.5           3.0            5.2           2.0  Iris-virginica\n",
       "149            6.2           3.4            5.4           2.3  Iris-virginica\n",
       "150            5.9           3.0            5.1           1.8  Iris-virginica\n",
       "\n",
       "[150 rows x 5 columns]"
      ]
     },
     "execution_count": 120,
     "metadata": {},
     "output_type": "execute_result"
    }
   ],
   "source": [
    "iris_data=iris.copy()\n",
    "iris_data"
   ]
  },
  {
   "cell_type": "code",
   "execution_count": 62,
   "id": "a7256832",
   "metadata": {},
   "outputs": [
    {
     "data": {
      "text/plain": [
       "Index(['SepalLengthCm', 'SepalWidthCm', 'PetalLengthCm', 'PetalWidthCm',\n",
       "       'Species'],\n",
       "      dtype='object')"
      ]
     },
     "execution_count": 62,
     "metadata": {},
     "output_type": "execute_result"
    }
   ],
   "source": [
    "iris.columns"
   ]
  },
  {
   "cell_type": "markdown",
   "id": "e6b4ed89",
   "metadata": {},
   "source": [
    "### 1. How many samples and features are there in the Iris dataset?"
   ]
  },
  {
   "cell_type": "code",
   "execution_count": 63,
   "id": "d18d456b",
   "metadata": {},
   "outputs": [
    {
     "data": {
      "text/plain": [
       "(150, 5)"
      ]
     },
     "execution_count": 63,
     "metadata": {},
     "output_type": "execute_result"
    }
   ],
   "source": [
    "iris.shape"
   ]
  },
  {
   "cell_type": "code",
   "execution_count": 7,
   "id": "eb114692",
   "metadata": {},
   "outputs": [],
   "source": [
    "# 150 samples\n",
    "#  5 features"
   ]
  },
  {
   "cell_type": "markdown",
   "id": "1347cf4f",
   "metadata": {},
   "source": [
    "### 2. What are the names of the features (columns) in the dataset?"
   ]
  },
  {
   "cell_type": "code",
   "execution_count": 64,
   "id": "e276c33f",
   "metadata": {},
   "outputs": [
    {
     "data": {
      "text/plain": [
       "Index(['SepalLengthCm', 'SepalWidthCm', 'PetalLengthCm', 'PetalWidthCm',\n",
       "       'Species'],\n",
       "      dtype='object')"
      ]
     },
     "execution_count": 64,
     "metadata": {},
     "output_type": "execute_result"
    }
   ],
   "source": [
    "iris.columns"
   ]
  },
  {
   "cell_type": "code",
   "execution_count": 66,
   "id": "21564cf8",
   "metadata": {},
   "outputs": [],
   "source": [
    "# 'SepalLengthCm', 'SepalWidthCm', 'PetalLengthCm', 'PetalWidthCm','Species' "
   ]
  },
  {
   "cell_type": "markdown",
   "id": "6d82c44c",
   "metadata": {},
   "source": [
    "### 3. How many unique species of iris flowers are present in the dataset?"
   ]
  },
  {
   "cell_type": "code",
   "execution_count": 67,
   "id": "804196d6",
   "metadata": {},
   "outputs": [
    {
     "data": {
      "text/plain": [
       "array(['Iris-setosa', 'Iris-versicolor', 'Iris-virginica'], dtype=object)"
      ]
     },
     "execution_count": 67,
     "metadata": {},
     "output_type": "execute_result"
    }
   ],
   "source": [
    "iris[\"Species\"].unique()"
   ]
  },
  {
   "cell_type": "code",
   "execution_count": 68,
   "id": "36d6152e",
   "metadata": {},
   "outputs": [],
   "source": [
    "# there are 3types of species of iris flowers:'Iris-setosa','Iris-versicolor','Iris-virginica'"
   ]
  },
  {
   "cell_type": "markdown",
   "id": "05c78dff",
   "metadata": {},
   "source": [
    "### 4. What is the average sepal length for each species of iris?"
   ]
  },
  {
   "cell_type": "code",
   "execution_count": 69,
   "id": "78622743",
   "metadata": {},
   "outputs": [],
   "source": [
    "species_group=iris.groupby(\"Species\")"
   ]
  },
  {
   "cell_type": "code",
   "execution_count": 70,
   "id": "b611d088",
   "metadata": {},
   "outputs": [
    {
     "data": {
      "text/plain": [
       "Species\n",
       "Iris-setosa        5.006\n",
       "Iris-versicolor    5.936\n",
       "Iris-virginica     6.588\n",
       "Name: SepalLengthCm, dtype: float64"
      ]
     },
     "execution_count": 70,
     "metadata": {},
     "output_type": "execute_result"
    }
   ],
   "source": [
    "species_group[\"SepalLengthCm\"].mean()"
   ]
  },
  {
   "cell_type": "markdown",
   "id": "e0240923",
   "metadata": {},
   "source": [
    "###### (or)"
   ]
  },
  {
   "cell_type": "code",
   "execution_count": 71,
   "id": "741b7b33",
   "metadata": {},
   "outputs": [
    {
     "data": {
      "text/plain": [
       "5.006"
      ]
     },
     "execution_count": 71,
     "metadata": {},
     "output_type": "execute_result"
    }
   ],
   "source": [
    "(species_group[\"SepalLengthCm\"].get_group(\"Iris-setosa\")).mean()"
   ]
  },
  {
   "cell_type": "code",
   "execution_count": 72,
   "id": "702f4703",
   "metadata": {},
   "outputs": [
    {
     "data": {
      "text/plain": [
       "5.936"
      ]
     },
     "execution_count": 72,
     "metadata": {},
     "output_type": "execute_result"
    }
   ],
   "source": [
    "(species_group[\"SepalLengthCm\"].get_group(\"Iris-versicolor\")).mean()"
   ]
  },
  {
   "cell_type": "code",
   "execution_count": 73,
   "id": "32d7daa4",
   "metadata": {},
   "outputs": [
    {
     "data": {
      "text/plain": [
       "6.587999999999998"
      ]
     },
     "execution_count": 73,
     "metadata": {},
     "output_type": "execute_result"
    }
   ],
   "source": [
    "(species_group[\"SepalLengthCm\"].get_group(\"Iris-virginica\")).mean()"
   ]
  },
  {
   "cell_type": "markdown",
   "id": "c4e7d09a",
   "metadata": {},
   "source": [
    "### 5. What is the maximum petal width among all the iris flowers?"
   ]
  },
  {
   "cell_type": "code",
   "execution_count": 74,
   "id": "147fb3f7",
   "metadata": {},
   "outputs": [
    {
     "data": {
      "text/plain": [
       "2.5"
      ]
     },
     "execution_count": 74,
     "metadata": {},
     "output_type": "execute_result"
    }
   ],
   "source": [
    "iris[\"PetalWidthCm\"].max()"
   ]
  },
  {
   "cell_type": "code",
   "execution_count": 75,
   "id": "e369ad76",
   "metadata": {},
   "outputs": [],
   "source": [
    "species_group=iris.groupby(\"Species\")"
   ]
  },
  {
   "cell_type": "code",
   "execution_count": 76,
   "id": "7f313bee",
   "metadata": {},
   "outputs": [
    {
     "data": {
      "text/plain": [
       "Species\n",
       "Iris-setosa        0.6\n",
       "Iris-versicolor    1.8\n",
       "Iris-virginica     2.5\n",
       "Name: PetalWidthCm, dtype: float64"
      ]
     },
     "execution_count": 76,
     "metadata": {},
     "output_type": "execute_result"
    }
   ],
   "source": [
    "species_group[\"PetalWidthCm\"].max()"
   ]
  },
  {
   "cell_type": "markdown",
   "id": "974f871f",
   "metadata": {},
   "source": [
    "###### (or)"
   ]
  },
  {
   "cell_type": "code",
   "execution_count": 77,
   "id": "a44b88fd",
   "metadata": {},
   "outputs": [
    {
     "data": {
      "text/plain": [
       "1.9"
      ]
     },
     "execution_count": 77,
     "metadata": {},
     "output_type": "execute_result"
    }
   ],
   "source": [
    "(species_group[\"PetalLengthCm\"].get_group(\"Iris-setosa\")).max()"
   ]
  },
  {
   "cell_type": "code",
   "execution_count": 78,
   "id": "41ca44b4",
   "metadata": {},
   "outputs": [
    {
     "data": {
      "text/plain": [
       "5.1"
      ]
     },
     "execution_count": 78,
     "metadata": {},
     "output_type": "execute_result"
    }
   ],
   "source": [
    "(species_group[\"PetalLengthCm\"].get_group(\"Iris-versicolor\")).max()"
   ]
  },
  {
   "cell_type": "code",
   "execution_count": 79,
   "id": "fedbbd93",
   "metadata": {},
   "outputs": [
    {
     "data": {
      "text/plain": [
       "6.9"
      ]
     },
     "execution_count": 79,
     "metadata": {},
     "output_type": "execute_result"
    }
   ],
   "source": [
    "(species_group[\"PetalLengthCm\"].get_group(\"Iris-virginica\")).max()"
   ]
  },
  {
   "cell_type": "markdown",
   "id": "a365ea55",
   "metadata": {},
   "source": [
    "### 6. How many samples belong to each species of iris?"
   ]
  },
  {
   "cell_type": "code",
   "execution_count": 80,
   "id": "af755d55",
   "metadata": {},
   "outputs": [
    {
     "data": {
      "text/plain": [
       "Iris-setosa        50\n",
       "Iris-versicolor    50\n",
       "Iris-virginica     50\n",
       "Name: Species, dtype: int64"
      ]
     },
     "execution_count": 80,
     "metadata": {},
     "output_type": "execute_result"
    }
   ],
   "source": [
    "iris[\"Species\"].value_counts()"
   ]
  },
  {
   "cell_type": "markdown",
   "id": "410c4cb7",
   "metadata": {},
   "source": [
    "###### (or)"
   ]
  },
  {
   "cell_type": "code",
   "execution_count": 81,
   "id": "c3146cc0",
   "metadata": {},
   "outputs": [],
   "source": [
    "species_group=iris.groupby(\"Species\")"
   ]
  },
  {
   "cell_type": "code",
   "execution_count": 82,
   "id": "8cf57acb",
   "metadata": {},
   "outputs": [
    {
     "data": {
      "text/plain": [
       "Iris-setosa    50\n",
       "Name: Species, dtype: int64"
      ]
     },
     "execution_count": 82,
     "metadata": {},
     "output_type": "execute_result"
    }
   ],
   "source": [
    "species_group[\"Species\"].get_group(\"Iris-setosa\").value_counts()"
   ]
  },
  {
   "cell_type": "markdown",
   "id": "4da53376",
   "metadata": {},
   "source": [
    "### 7. How many samples have a petal length greater than 5 cm?"
   ]
  },
  {
   "cell_type": "code",
   "execution_count": 83,
   "id": "01266d39",
   "metadata": {},
   "outputs": [
    {
     "data": {
      "text/html": [
       "<div>\n",
       "<style scoped>\n",
       "    .dataframe tbody tr th:only-of-type {\n",
       "        vertical-align: middle;\n",
       "    }\n",
       "\n",
       "    .dataframe tbody tr th {\n",
       "        vertical-align: top;\n",
       "    }\n",
       "\n",
       "    .dataframe thead th {\n",
       "        text-align: right;\n",
       "    }\n",
       "</style>\n",
       "<table border=\"1\" class=\"dataframe\">\n",
       "  <thead>\n",
       "    <tr style=\"text-align: right;\">\n",
       "      <th></th>\n",
       "      <th>PetalLengthCm</th>\n",
       "    </tr>\n",
       "    <tr>\n",
       "      <th>Id</th>\n",
       "      <th></th>\n",
       "    </tr>\n",
       "  </thead>\n",
       "  <tbody>\n",
       "    <tr>\n",
       "      <th>84</th>\n",
       "      <td>5.1</td>\n",
       "    </tr>\n",
       "    <tr>\n",
       "      <th>101</th>\n",
       "      <td>6.0</td>\n",
       "    </tr>\n",
       "    <tr>\n",
       "      <th>102</th>\n",
       "      <td>5.1</td>\n",
       "    </tr>\n",
       "    <tr>\n",
       "      <th>103</th>\n",
       "      <td>5.9</td>\n",
       "    </tr>\n",
       "    <tr>\n",
       "      <th>104</th>\n",
       "      <td>5.6</td>\n",
       "    </tr>\n",
       "    <tr>\n",
       "      <th>105</th>\n",
       "      <td>5.8</td>\n",
       "    </tr>\n",
       "    <tr>\n",
       "      <th>106</th>\n",
       "      <td>6.6</td>\n",
       "    </tr>\n",
       "    <tr>\n",
       "      <th>108</th>\n",
       "      <td>6.3</td>\n",
       "    </tr>\n",
       "    <tr>\n",
       "      <th>109</th>\n",
       "      <td>5.8</td>\n",
       "    </tr>\n",
       "    <tr>\n",
       "      <th>110</th>\n",
       "      <td>6.1</td>\n",
       "    </tr>\n",
       "    <tr>\n",
       "      <th>111</th>\n",
       "      <td>5.1</td>\n",
       "    </tr>\n",
       "    <tr>\n",
       "      <th>112</th>\n",
       "      <td>5.3</td>\n",
       "    </tr>\n",
       "    <tr>\n",
       "      <th>113</th>\n",
       "      <td>5.5</td>\n",
       "    </tr>\n",
       "    <tr>\n",
       "      <th>115</th>\n",
       "      <td>5.1</td>\n",
       "    </tr>\n",
       "    <tr>\n",
       "      <th>116</th>\n",
       "      <td>5.3</td>\n",
       "    </tr>\n",
       "    <tr>\n",
       "      <th>117</th>\n",
       "      <td>5.5</td>\n",
       "    </tr>\n",
       "    <tr>\n",
       "      <th>118</th>\n",
       "      <td>6.7</td>\n",
       "    </tr>\n",
       "    <tr>\n",
       "      <th>119</th>\n",
       "      <td>6.9</td>\n",
       "    </tr>\n",
       "    <tr>\n",
       "      <th>121</th>\n",
       "      <td>5.7</td>\n",
       "    </tr>\n",
       "    <tr>\n",
       "      <th>123</th>\n",
       "      <td>6.7</td>\n",
       "    </tr>\n",
       "    <tr>\n",
       "      <th>125</th>\n",
       "      <td>5.7</td>\n",
       "    </tr>\n",
       "    <tr>\n",
       "      <th>126</th>\n",
       "      <td>6.0</td>\n",
       "    </tr>\n",
       "    <tr>\n",
       "      <th>129</th>\n",
       "      <td>5.6</td>\n",
       "    </tr>\n",
       "    <tr>\n",
       "      <th>130</th>\n",
       "      <td>5.8</td>\n",
       "    </tr>\n",
       "    <tr>\n",
       "      <th>131</th>\n",
       "      <td>6.1</td>\n",
       "    </tr>\n",
       "    <tr>\n",
       "      <th>132</th>\n",
       "      <td>6.4</td>\n",
       "    </tr>\n",
       "    <tr>\n",
       "      <th>133</th>\n",
       "      <td>5.6</td>\n",
       "    </tr>\n",
       "    <tr>\n",
       "      <th>134</th>\n",
       "      <td>5.1</td>\n",
       "    </tr>\n",
       "    <tr>\n",
       "      <th>135</th>\n",
       "      <td>5.6</td>\n",
       "    </tr>\n",
       "    <tr>\n",
       "      <th>136</th>\n",
       "      <td>6.1</td>\n",
       "    </tr>\n",
       "    <tr>\n",
       "      <th>137</th>\n",
       "      <td>5.6</td>\n",
       "    </tr>\n",
       "    <tr>\n",
       "      <th>138</th>\n",
       "      <td>5.5</td>\n",
       "    </tr>\n",
       "    <tr>\n",
       "      <th>140</th>\n",
       "      <td>5.4</td>\n",
       "    </tr>\n",
       "    <tr>\n",
       "      <th>141</th>\n",
       "      <td>5.6</td>\n",
       "    </tr>\n",
       "    <tr>\n",
       "      <th>142</th>\n",
       "      <td>5.1</td>\n",
       "    </tr>\n",
       "    <tr>\n",
       "      <th>143</th>\n",
       "      <td>5.1</td>\n",
       "    </tr>\n",
       "    <tr>\n",
       "      <th>144</th>\n",
       "      <td>5.9</td>\n",
       "    </tr>\n",
       "    <tr>\n",
       "      <th>145</th>\n",
       "      <td>5.7</td>\n",
       "    </tr>\n",
       "    <tr>\n",
       "      <th>146</th>\n",
       "      <td>5.2</td>\n",
       "    </tr>\n",
       "    <tr>\n",
       "      <th>148</th>\n",
       "      <td>5.2</td>\n",
       "    </tr>\n",
       "    <tr>\n",
       "      <th>149</th>\n",
       "      <td>5.4</td>\n",
       "    </tr>\n",
       "    <tr>\n",
       "      <th>150</th>\n",
       "      <td>5.1</td>\n",
       "    </tr>\n",
       "  </tbody>\n",
       "</table>\n",
       "</div>"
      ],
      "text/plain": [
       "     PetalLengthCm\n",
       "Id                \n",
       "84             5.1\n",
       "101            6.0\n",
       "102            5.1\n",
       "103            5.9\n",
       "104            5.6\n",
       "105            5.8\n",
       "106            6.6\n",
       "108            6.3\n",
       "109            5.8\n",
       "110            6.1\n",
       "111            5.1\n",
       "112            5.3\n",
       "113            5.5\n",
       "115            5.1\n",
       "116            5.3\n",
       "117            5.5\n",
       "118            6.7\n",
       "119            6.9\n",
       "121            5.7\n",
       "123            6.7\n",
       "125            5.7\n",
       "126            6.0\n",
       "129            5.6\n",
       "130            5.8\n",
       "131            6.1\n",
       "132            6.4\n",
       "133            5.6\n",
       "134            5.1\n",
       "135            5.6\n",
       "136            6.1\n",
       "137            5.6\n",
       "138            5.5\n",
       "140            5.4\n",
       "141            5.6\n",
       "142            5.1\n",
       "143            5.1\n",
       "144            5.9\n",
       "145            5.7\n",
       "146            5.2\n",
       "148            5.2\n",
       "149            5.4\n",
       "150            5.1"
      ]
     },
     "execution_count": 83,
     "metadata": {},
     "output_type": "execute_result"
    }
   ],
   "source": [
    "iris.loc[(iris[\"PetalLengthCm\"]>5),[\"PetalLengthCm\"]]"
   ]
  },
  {
   "cell_type": "code",
   "execution_count": 84,
   "id": "53396148",
   "metadata": {},
   "outputs": [
    {
     "data": {
      "text/plain": [
       "(42, 1)"
      ]
     },
     "execution_count": 84,
     "metadata": {},
     "output_type": "execute_result"
    }
   ],
   "source": [
    "(iris.loc[(iris[\"PetalLengthCm\"]>5),[\"PetalLengthCm\"]]).shape"
   ]
  },
  {
   "cell_type": "code",
   "execution_count": 85,
   "id": "ec8a03f5",
   "metadata": {},
   "outputs": [],
   "source": [
    "# 42 samples have a petal length greater than 5 cm"
   ]
  },
  {
   "cell_type": "markdown",
   "id": "676c906e",
   "metadata": {},
   "source": [
    "###### (or)"
   ]
  },
  {
   "cell_type": "code",
   "execution_count": 86,
   "id": "a9a884f5",
   "metadata": {},
   "outputs": [],
   "source": [
    "greater5=iris[iris[\"PetalLengthCm\"]>5]"
   ]
  },
  {
   "cell_type": "code",
   "execution_count": 87,
   "id": "6fa58fbb",
   "metadata": {},
   "outputs": [
    {
     "data": {
      "text/plain": [
       "(42,)"
      ]
     },
     "execution_count": 87,
     "metadata": {},
     "output_type": "execute_result"
    }
   ],
   "source": [
    "greater5[\"PetalLengthCm\"].shape"
   ]
  },
  {
   "cell_type": "code",
   "execution_count": 88,
   "id": "1ca80cde",
   "metadata": {},
   "outputs": [
    {
     "data": {
      "text/plain": [
       "42"
      ]
     },
     "execution_count": 88,
     "metadata": {},
     "output_type": "execute_result"
    }
   ],
   "source": [
    "len(greater5[\"PetalLengthCm\"])"
   ]
  },
  {
   "cell_type": "code",
   "execution_count": 89,
   "id": "925ea5e1",
   "metadata": {
    "scrolled": true
   },
   "outputs": [
    {
     "data": {
      "text/plain": [
       "6.9"
      ]
     },
     "execution_count": 89,
     "metadata": {},
     "output_type": "execute_result"
    }
   ],
   "source": [
    "greater5[\"PetalLengthCm\"].max()"
   ]
  },
  {
   "cell_type": "code",
   "execution_count": 90,
   "id": "544aac6f",
   "metadata": {},
   "outputs": [
    {
     "data": {
      "text/plain": [
       "5.1"
      ]
     },
     "execution_count": 90,
     "metadata": {},
     "output_type": "execute_result"
    }
   ],
   "source": [
    "greater5[\"PetalLengthCm\"].min()"
   ]
  },
  {
   "cell_type": "markdown",
   "id": "0b74286a",
   "metadata": {},
   "source": [
    "### 8. How can you filter and display only the samples belonging to a specific species, e.g., Iris setosa?"
   ]
  },
  {
   "cell_type": "code",
   "execution_count": 92,
   "id": "c33c70c6",
   "metadata": {},
   "outputs": [],
   "source": [
    "species_group=iris.groupby(\"Species\")"
   ]
  },
  {
   "cell_type": "code",
   "execution_count": 93,
   "id": "7795343a",
   "metadata": {},
   "outputs": [
    {
     "data": {
      "text/plain": [
       "SepalLengthCm  SepalWidthCm  PetalLengthCm  PetalWidthCm  Species    \n",
       "4.9            3.1           1.5            0.1           Iris-setosa    3\n",
       "4.3            3.0           1.1            0.1           Iris-setosa    1\n",
       "5.0            3.6           1.4            0.2           Iris-setosa    1\n",
       "5.1            3.4           1.5            0.2           Iris-setosa    1\n",
       "               3.5           1.4            0.2           Iris-setosa    1\n",
       "                                            0.3           Iris-setosa    1\n",
       "               3.7           1.5            0.4           Iris-setosa    1\n",
       "               3.8           1.5            0.3           Iris-setosa    1\n",
       "                             1.6            0.2           Iris-setosa    1\n",
       "                             1.9            0.4           Iris-setosa    1\n",
       "5.2            3.4           1.4            0.2           Iris-setosa    1\n",
       "               3.5           1.5            0.2           Iris-setosa    1\n",
       "               4.1           1.5            0.1           Iris-setosa    1\n",
       "5.3            3.7           1.5            0.2           Iris-setosa    1\n",
       "5.4            3.4           1.5            0.4           Iris-setosa    1\n",
       "                             1.7            0.2           Iris-setosa    1\n",
       "               3.7           1.5            0.2           Iris-setosa    1\n",
       "               3.9           1.3            0.4           Iris-setosa    1\n",
       "                             1.7            0.4           Iris-setosa    1\n",
       "5.5            3.5           1.3            0.2           Iris-setosa    1\n",
       "               4.2           1.4            0.2           Iris-setosa    1\n",
       "5.7            3.8           1.7            0.3           Iris-setosa    1\n",
       "               4.4           1.5            0.4           Iris-setosa    1\n",
       "5.1            3.3           1.7            0.5           Iris-setosa    1\n",
       "5.0            3.5           1.6            0.6           Iris-setosa    1\n",
       "4.4            2.9           1.4            0.2           Iris-setosa    1\n",
       "4.8            3.0           1.4            0.1           Iris-setosa    1\n",
       "4.4            3.0           1.3            0.2           Iris-setosa    1\n",
       "               3.2           1.3            0.2           Iris-setosa    1\n",
       "4.5            2.3           1.3            0.3           Iris-setosa    1\n",
       "4.6            3.1           1.5            0.2           Iris-setosa    1\n",
       "               3.2           1.4            0.2           Iris-setosa    1\n",
       "               3.4           1.4            0.3           Iris-setosa    1\n",
       "               3.6           1.0            0.2           Iris-setosa    1\n",
       "4.7            3.2           1.3            0.2           Iris-setosa    1\n",
       "                             1.6            0.2           Iris-setosa    1\n",
       "4.8            3.0           1.4            0.3           Iris-setosa    1\n",
       "5.0            3.5           1.3            0.3           Iris-setosa    1\n",
       "4.8            3.1           1.6            0.2           Iris-setosa    1\n",
       "               3.4           1.6            0.2           Iris-setosa    1\n",
       "                             1.9            0.2           Iris-setosa    1\n",
       "4.9            3.0           1.4            0.2           Iris-setosa    1\n",
       "5.0            3.0           1.6            0.2           Iris-setosa    1\n",
       "               3.2           1.2            0.2           Iris-setosa    1\n",
       "               3.3           1.4            0.2           Iris-setosa    1\n",
       "               3.4           1.5            0.2           Iris-setosa    1\n",
       "                             1.6            0.4           Iris-setosa    1\n",
       "5.8            4.0           1.2            0.2           Iris-setosa    1\n",
       "dtype: int64"
      ]
     },
     "execution_count": 93,
     "metadata": {},
     "output_type": "execute_result"
    }
   ],
   "source": [
    "species_group.get_group(\"Iris-setosa\").value_counts()"
   ]
  },
  {
   "cell_type": "markdown",
   "id": "c22e7d8a",
   "metadata": {},
   "source": [
    "### 9. What is the minimum and maximum sepal length among Iris setosa flowers?"
   ]
  },
  {
   "cell_type": "code",
   "execution_count": 96,
   "id": "26bba0fc",
   "metadata": {},
   "outputs": [],
   "source": [
    "species_group=iris.groupby(\"Species\")"
   ]
  },
  {
   "cell_type": "code",
   "execution_count": 97,
   "id": "1ec23bf5",
   "metadata": {},
   "outputs": [
    {
     "data": {
      "text/plain": [
       "4.3"
      ]
     },
     "execution_count": 97,
     "metadata": {},
     "output_type": "execute_result"
    }
   ],
   "source": [
    "(species_group[\"SepalLengthCm\"].get_group(\"Iris-setosa\")).min()"
   ]
  },
  {
   "cell_type": "code",
   "execution_count": 99,
   "id": "1643c762",
   "metadata": {},
   "outputs": [
    {
     "data": {
      "text/plain": [
       "5.8"
      ]
     },
     "execution_count": 99,
     "metadata": {},
     "output_type": "execute_result"
    }
   ],
   "source": [
    "(species_group[\"SepalLengthCm\"].get_group(\"Iris-setosa\")).max()"
   ]
  },
  {
   "cell_type": "code",
   "execution_count": 100,
   "id": "99384790",
   "metadata": {},
   "outputs": [
    {
     "data": {
      "text/plain": [
       "5.1    8\n",
       "5.0    8\n",
       "5.4    5\n",
       "4.8    5\n",
       "4.9    4\n",
       "4.6    4\n",
       "4.4    3\n",
       "5.2    3\n",
       "4.7    2\n",
       "5.7    2\n",
       "5.5    2\n",
       "4.3    1\n",
       "5.8    1\n",
       "4.5    1\n",
       "5.3    1\n",
       "Name: SepalLengthCm, dtype: int64"
      ]
     },
     "execution_count": 100,
     "metadata": {},
     "output_type": "execute_result"
    }
   ],
   "source": [
    "(species_group[\"SepalLengthCm\"].get_group(\"Iris-setosa\")).value_counts()"
   ]
  },
  {
   "cell_type": "markdown",
   "id": "812878a3",
   "metadata": {},
   "source": [
    "### 10. How many missing values are there in each column of the dataset?"
   ]
  },
  {
   "cell_type": "code",
   "execution_count": 101,
   "id": "35545afe",
   "metadata": {},
   "outputs": [
    {
     "data": {
      "text/plain": [
       "SepalLengthCm    0\n",
       "SepalWidthCm     0\n",
       "PetalLengthCm    0\n",
       "PetalWidthCm     0\n",
       "Species          0\n",
       "dtype: int64"
      ]
     },
     "execution_count": 101,
     "metadata": {},
     "output_type": "execute_result"
    }
   ],
   "source": [
    "iris.isnull().sum()"
   ]
  },
  {
   "cell_type": "markdown",
   "id": "ab5ca02d",
   "metadata": {},
   "source": [
    "### 11. Create a new DataFrame containing only the samples with petal length greater than 4.5 cm."
   ]
  },
  {
   "cell_type": "code",
   "execution_count": 102,
   "id": "2b81cb52",
   "metadata": {},
   "outputs": [
    {
     "data": {
      "text/html": [
       "<div>\n",
       "<style scoped>\n",
       "    .dataframe tbody tr th:only-of-type {\n",
       "        vertical-align: middle;\n",
       "    }\n",
       "\n",
       "    .dataframe tbody tr th {\n",
       "        vertical-align: top;\n",
       "    }\n",
       "\n",
       "    .dataframe thead th {\n",
       "        text-align: right;\n",
       "    }\n",
       "</style>\n",
       "<table border=\"1\" class=\"dataframe\">\n",
       "  <thead>\n",
       "    <tr style=\"text-align: right;\">\n",
       "      <th></th>\n",
       "      <th>SepalLengthCm</th>\n",
       "      <th>SepalWidthCm</th>\n",
       "      <th>PetalLengthCm</th>\n",
       "      <th>PetalWidthCm</th>\n",
       "      <th>Species</th>\n",
       "    </tr>\n",
       "    <tr>\n",
       "      <th>Id</th>\n",
       "      <th></th>\n",
       "      <th></th>\n",
       "      <th></th>\n",
       "      <th></th>\n",
       "      <th></th>\n",
       "    </tr>\n",
       "  </thead>\n",
       "  <tbody>\n",
       "    <tr>\n",
       "      <th>51</th>\n",
       "      <td>7.0</td>\n",
       "      <td>3.2</td>\n",
       "      <td>4.7</td>\n",
       "      <td>1.4</td>\n",
       "      <td>Iris-versicolor</td>\n",
       "    </tr>\n",
       "    <tr>\n",
       "      <th>53</th>\n",
       "      <td>6.9</td>\n",
       "      <td>3.1</td>\n",
       "      <td>4.9</td>\n",
       "      <td>1.5</td>\n",
       "      <td>Iris-versicolor</td>\n",
       "    </tr>\n",
       "    <tr>\n",
       "      <th>55</th>\n",
       "      <td>6.5</td>\n",
       "      <td>2.8</td>\n",
       "      <td>4.6</td>\n",
       "      <td>1.5</td>\n",
       "      <td>Iris-versicolor</td>\n",
       "    </tr>\n",
       "    <tr>\n",
       "      <th>57</th>\n",
       "      <td>6.3</td>\n",
       "      <td>3.3</td>\n",
       "      <td>4.7</td>\n",
       "      <td>1.6</td>\n",
       "      <td>Iris-versicolor</td>\n",
       "    </tr>\n",
       "    <tr>\n",
       "      <th>59</th>\n",
       "      <td>6.6</td>\n",
       "      <td>2.9</td>\n",
       "      <td>4.6</td>\n",
       "      <td>1.3</td>\n",
       "      <td>Iris-versicolor</td>\n",
       "    </tr>\n",
       "    <tr>\n",
       "      <th>...</th>\n",
       "      <td>...</td>\n",
       "      <td>...</td>\n",
       "      <td>...</td>\n",
       "      <td>...</td>\n",
       "      <td>...</td>\n",
       "    </tr>\n",
       "    <tr>\n",
       "      <th>146</th>\n",
       "      <td>6.7</td>\n",
       "      <td>3.0</td>\n",
       "      <td>5.2</td>\n",
       "      <td>2.3</td>\n",
       "      <td>Iris-virginica</td>\n",
       "    </tr>\n",
       "    <tr>\n",
       "      <th>147</th>\n",
       "      <td>6.3</td>\n",
       "      <td>2.5</td>\n",
       "      <td>5.0</td>\n",
       "      <td>1.9</td>\n",
       "      <td>Iris-virginica</td>\n",
       "    </tr>\n",
       "    <tr>\n",
       "      <th>148</th>\n",
       "      <td>6.5</td>\n",
       "      <td>3.0</td>\n",
       "      <td>5.2</td>\n",
       "      <td>2.0</td>\n",
       "      <td>Iris-virginica</td>\n",
       "    </tr>\n",
       "    <tr>\n",
       "      <th>149</th>\n",
       "      <td>6.2</td>\n",
       "      <td>3.4</td>\n",
       "      <td>5.4</td>\n",
       "      <td>2.3</td>\n",
       "      <td>Iris-virginica</td>\n",
       "    </tr>\n",
       "    <tr>\n",
       "      <th>150</th>\n",
       "      <td>5.9</td>\n",
       "      <td>3.0</td>\n",
       "      <td>5.1</td>\n",
       "      <td>1.8</td>\n",
       "      <td>Iris-virginica</td>\n",
       "    </tr>\n",
       "  </tbody>\n",
       "</table>\n",
       "<p>63 rows × 5 columns</p>\n",
       "</div>"
      ],
      "text/plain": [
       "     SepalLengthCm  SepalWidthCm  PetalLengthCm  PetalWidthCm          Species\n",
       "Id                                                                            \n",
       "51             7.0           3.2            4.7           1.4  Iris-versicolor\n",
       "53             6.9           3.1            4.9           1.5  Iris-versicolor\n",
       "55             6.5           2.8            4.6           1.5  Iris-versicolor\n",
       "57             6.3           3.3            4.7           1.6  Iris-versicolor\n",
       "59             6.6           2.9            4.6           1.3  Iris-versicolor\n",
       "..             ...           ...            ...           ...              ...\n",
       "146            6.7           3.0            5.2           2.3   Iris-virginica\n",
       "147            6.3           2.5            5.0           1.9   Iris-virginica\n",
       "148            6.5           3.0            5.2           2.0   Iris-virginica\n",
       "149            6.2           3.4            5.4           2.3   Iris-virginica\n",
       "150            5.9           3.0            5.1           1.8   Iris-virginica\n",
       "\n",
       "[63 rows x 5 columns]"
      ]
     },
     "execution_count": 102,
     "metadata": {},
     "output_type": "execute_result"
    }
   ],
   "source": [
    "petal_greater_4=iris[iris[\"PetalLengthCm\"]>4.5]\n",
    "petal_greater_4"
   ]
  },
  {
   "cell_type": "code",
   "execution_count": 103,
   "id": "63c1fba5",
   "metadata": {},
   "outputs": [
    {
     "data": {
      "text/plain": [
       "4.6"
      ]
     },
     "execution_count": 103,
     "metadata": {},
     "output_type": "execute_result"
    }
   ],
   "source": [
    "petal_greater_4[\"PetalLengthCm\"].min()"
   ]
  },
  {
   "cell_type": "code",
   "execution_count": 104,
   "id": "f8de4a85",
   "metadata": {},
   "outputs": [
    {
     "data": {
      "text/plain": [
       "1.0"
      ]
     },
     "execution_count": 104,
     "metadata": {},
     "output_type": "execute_result"
    }
   ],
   "source": [
    "iris[\"PetalLengthCm\"].min()"
   ]
  },
  {
   "cell_type": "markdown",
   "id": "e93f9759",
   "metadata": {},
   "source": [
    "### 12. Which species of iris has the highest average petal width?"
   ]
  },
  {
   "cell_type": "code",
   "execution_count": 105,
   "id": "b8ef8b98",
   "metadata": {},
   "outputs": [],
   "source": [
    "species_group=iris.groupby(\"Species\")"
   ]
  },
  {
   "cell_type": "code",
   "execution_count": 106,
   "id": "7b33ad3f",
   "metadata": {},
   "outputs": [
    {
     "data": {
      "text/plain": [
       "2.026"
      ]
     },
     "execution_count": 106,
     "metadata": {},
     "output_type": "execute_result"
    }
   ],
   "source": [
    "(species_group[\"PetalWidthCm\"].mean()).max()"
   ]
  },
  {
   "cell_type": "markdown",
   "id": "085e03f3",
   "metadata": {},
   "source": [
    "### 13. Use the apply function to convert all petal lengths from centimeters to millimeters."
   ]
  },
  {
   "cell_type": "code",
   "execution_count": 107,
   "id": "04076366",
   "metadata": {},
   "outputs": [],
   "source": [
    "def cm_to_mm(cm):\n",
    "    return cm*10"
   ]
  },
  {
   "cell_type": "code",
   "execution_count": 108,
   "id": "38ca629f",
   "metadata": {},
   "outputs": [
    {
     "data": {
      "text/plain": [
       "Id\n",
       "1      14.0\n",
       "2      14.0\n",
       "3      13.0\n",
       "4      15.0\n",
       "5      14.0\n",
       "       ... \n",
       "146    52.0\n",
       "147    50.0\n",
       "148    52.0\n",
       "149    54.0\n",
       "150    51.0\n",
       "Name: PetalLengthCm, Length: 150, dtype: float64"
      ]
     },
     "execution_count": 108,
     "metadata": {},
     "output_type": "execute_result"
    }
   ],
   "source": [
    "iris[\"PetalLengthCm\"].apply(cm_to_mm)"
   ]
  },
  {
   "cell_type": "markdown",
   "id": "b2c886d3",
   "metadata": {},
   "source": [
    "###### (or)"
   ]
  },
  {
   "cell_type": "code",
   "execution_count": 109,
   "id": "c9864577",
   "metadata": {},
   "outputs": [
    {
     "data": {
      "text/plain": [
       "Id\n",
       "1      14.0\n",
       "2      14.0\n",
       "3      13.0\n",
       "4      15.0\n",
       "5      14.0\n",
       "       ... \n",
       "146    52.0\n",
       "147    50.0\n",
       "148    52.0\n",
       "149    54.0\n",
       "150    51.0\n",
       "Name: PetalLengthCm, Length: 150, dtype: float64"
      ]
     },
     "execution_count": 109,
     "metadata": {},
     "output_type": "execute_result"
    }
   ],
   "source": [
    "iris[\"PetalLengthCm\"].apply(lambda x:x*10)"
   ]
  },
  {
   "cell_type": "markdown",
   "id": "51630e80",
   "metadata": {},
   "source": [
    "### 14. Replace the species names in the Iris dataset with numeric labels as follows: \"Iris setosa\" with 0, \"Iris versicolor\" with 1, and \"Iris virginica\" with 2.\n"
   ]
  },
  {
   "cell_type": "code",
   "execution_count": 110,
   "id": "6f95b620",
   "metadata": {},
   "outputs": [
    {
     "data": {
      "text/html": [
       "<div>\n",
       "<style scoped>\n",
       "    .dataframe tbody tr th:only-of-type {\n",
       "        vertical-align: middle;\n",
       "    }\n",
       "\n",
       "    .dataframe tbody tr th {\n",
       "        vertical-align: top;\n",
       "    }\n",
       "\n",
       "    .dataframe thead th {\n",
       "        text-align: right;\n",
       "    }\n",
       "</style>\n",
       "<table border=\"1\" class=\"dataframe\">\n",
       "  <thead>\n",
       "    <tr style=\"text-align: right;\">\n",
       "      <th></th>\n",
       "      <th>Species</th>\n",
       "    </tr>\n",
       "    <tr>\n",
       "      <th>Id</th>\n",
       "      <th></th>\n",
       "    </tr>\n",
       "  </thead>\n",
       "  <tbody>\n",
       "    <tr>\n",
       "      <th>1</th>\n",
       "      <td>0</td>\n",
       "    </tr>\n",
       "    <tr>\n",
       "      <th>2</th>\n",
       "      <td>0</td>\n",
       "    </tr>\n",
       "    <tr>\n",
       "      <th>3</th>\n",
       "      <td>0</td>\n",
       "    </tr>\n",
       "    <tr>\n",
       "      <th>4</th>\n",
       "      <td>0</td>\n",
       "    </tr>\n",
       "    <tr>\n",
       "      <th>5</th>\n",
       "      <td>0</td>\n",
       "    </tr>\n",
       "    <tr>\n",
       "      <th>6</th>\n",
       "      <td>0</td>\n",
       "    </tr>\n",
       "    <tr>\n",
       "      <th>7</th>\n",
       "      <td>0</td>\n",
       "    </tr>\n",
       "    <tr>\n",
       "      <th>8</th>\n",
       "      <td>0</td>\n",
       "    </tr>\n",
       "    <tr>\n",
       "      <th>9</th>\n",
       "      <td>0</td>\n",
       "    </tr>\n",
       "    <tr>\n",
       "      <th>10</th>\n",
       "      <td>0</td>\n",
       "    </tr>\n",
       "  </tbody>\n",
       "</table>\n",
       "</div>"
      ],
      "text/plain": [
       "    Species\n",
       "Id         \n",
       "1         0\n",
       "2         0\n",
       "3         0\n",
       "4         0\n",
       "5         0\n",
       "6         0\n",
       "7         0\n",
       "8         0\n",
       "9         0\n",
       "10        0"
      ]
     },
     "execution_count": 110,
     "metadata": {},
     "output_type": "execute_result"
    }
   ],
   "source": [
    "newlabel=iris.replace({\"Iris-setosa\":0,\"Iris-versicolor\":1,\"Iris-virginica\":2})\n",
    "newlabel.loc[1:10,[\"Species\"]]"
   ]
  },
  {
   "cell_type": "code",
   "execution_count": 111,
   "id": "a2c7ea4a",
   "metadata": {},
   "outputs": [
    {
     "data": {
      "text/plain": [
       "0    50\n",
       "1    50\n",
       "2    50\n",
       "Name: Species, dtype: int64"
      ]
     },
     "execution_count": 111,
     "metadata": {},
     "output_type": "execute_result"
    }
   ],
   "source": [
    "newlabel[\"Species\"].value_counts()"
   ]
  },
  {
   "cell_type": "markdown",
   "id": "1b403718",
   "metadata": {},
   "source": [
    "\n",
    "\n",
    "\n",
    "###### (or)"
   ]
  },
  {
   "cell_type": "code",
   "execution_count": 121,
   "id": "b2489f50",
   "metadata": {},
   "outputs": [],
   "source": [
    "iris=iris.replace({\"Iris-setosa\":0,\"Iris-versicolor\":1,\"Iris-virginica\":2})\n"
   ]
  },
  {
   "cell_type": "code",
   "execution_count": 122,
   "id": "1950fa94",
   "metadata": {},
   "outputs": [
    {
     "data": {
      "text/plain": [
       "0    50\n",
       "1    50\n",
       "2    50\n",
       "Name: Species, dtype: int64"
      ]
     },
     "execution_count": 122,
     "metadata": {},
     "output_type": "execute_result"
    }
   ],
   "source": [
    "iris[\"Species\"].value_counts()"
   ]
  },
  {
   "cell_type": "code",
   "execution_count": 123,
   "id": "779edd69",
   "metadata": {},
   "outputs": [
    {
     "data": {
      "text/html": [
       "<div>\n",
       "<style scoped>\n",
       "    .dataframe tbody tr th:only-of-type {\n",
       "        vertical-align: middle;\n",
       "    }\n",
       "\n",
       "    .dataframe tbody tr th {\n",
       "        vertical-align: top;\n",
       "    }\n",
       "\n",
       "    .dataframe thead th {\n",
       "        text-align: right;\n",
       "    }\n",
       "</style>\n",
       "<table border=\"1\" class=\"dataframe\">\n",
       "  <thead>\n",
       "    <tr style=\"text-align: right;\">\n",
       "      <th></th>\n",
       "      <th>SepalLengthCm</th>\n",
       "      <th>SepalWidthCm</th>\n",
       "      <th>PetalLengthCm</th>\n",
       "      <th>PetalWidthCm</th>\n",
       "      <th>Species</th>\n",
       "    </tr>\n",
       "    <tr>\n",
       "      <th>Id</th>\n",
       "      <th></th>\n",
       "      <th></th>\n",
       "      <th></th>\n",
       "      <th></th>\n",
       "      <th></th>\n",
       "    </tr>\n",
       "  </thead>\n",
       "  <tbody>\n",
       "    <tr>\n",
       "      <th>1</th>\n",
       "      <td>5.1</td>\n",
       "      <td>3.5</td>\n",
       "      <td>1.4</td>\n",
       "      <td>0.2</td>\n",
       "      <td>0</td>\n",
       "    </tr>\n",
       "    <tr>\n",
       "      <th>2</th>\n",
       "      <td>4.9</td>\n",
       "      <td>3.0</td>\n",
       "      <td>1.4</td>\n",
       "      <td>0.2</td>\n",
       "      <td>0</td>\n",
       "    </tr>\n",
       "    <tr>\n",
       "      <th>3</th>\n",
       "      <td>4.7</td>\n",
       "      <td>3.2</td>\n",
       "      <td>1.3</td>\n",
       "      <td>0.2</td>\n",
       "      <td>0</td>\n",
       "    </tr>\n",
       "    <tr>\n",
       "      <th>4</th>\n",
       "      <td>4.6</td>\n",
       "      <td>3.1</td>\n",
       "      <td>1.5</td>\n",
       "      <td>0.2</td>\n",
       "      <td>0</td>\n",
       "    </tr>\n",
       "    <tr>\n",
       "      <th>5</th>\n",
       "      <td>5.0</td>\n",
       "      <td>3.6</td>\n",
       "      <td>1.4</td>\n",
       "      <td>0.2</td>\n",
       "      <td>0</td>\n",
       "    </tr>\n",
       "    <tr>\n",
       "      <th>...</th>\n",
       "      <td>...</td>\n",
       "      <td>...</td>\n",
       "      <td>...</td>\n",
       "      <td>...</td>\n",
       "      <td>...</td>\n",
       "    </tr>\n",
       "    <tr>\n",
       "      <th>146</th>\n",
       "      <td>6.7</td>\n",
       "      <td>3.0</td>\n",
       "      <td>5.2</td>\n",
       "      <td>2.3</td>\n",
       "      <td>2</td>\n",
       "    </tr>\n",
       "    <tr>\n",
       "      <th>147</th>\n",
       "      <td>6.3</td>\n",
       "      <td>2.5</td>\n",
       "      <td>5.0</td>\n",
       "      <td>1.9</td>\n",
       "      <td>2</td>\n",
       "    </tr>\n",
       "    <tr>\n",
       "      <th>148</th>\n",
       "      <td>6.5</td>\n",
       "      <td>3.0</td>\n",
       "      <td>5.2</td>\n",
       "      <td>2.0</td>\n",
       "      <td>2</td>\n",
       "    </tr>\n",
       "    <tr>\n",
       "      <th>149</th>\n",
       "      <td>6.2</td>\n",
       "      <td>3.4</td>\n",
       "      <td>5.4</td>\n",
       "      <td>2.3</td>\n",
       "      <td>2</td>\n",
       "    </tr>\n",
       "    <tr>\n",
       "      <th>150</th>\n",
       "      <td>5.9</td>\n",
       "      <td>3.0</td>\n",
       "      <td>5.1</td>\n",
       "      <td>1.8</td>\n",
       "      <td>2</td>\n",
       "    </tr>\n",
       "  </tbody>\n",
       "</table>\n",
       "<p>150 rows × 5 columns</p>\n",
       "</div>"
      ],
      "text/plain": [
       "     SepalLengthCm  SepalWidthCm  PetalLengthCm  PetalWidthCm  Species\n",
       "Id                                                                    \n",
       "1              5.1           3.5            1.4           0.2        0\n",
       "2              4.9           3.0            1.4           0.2        0\n",
       "3              4.7           3.2            1.3           0.2        0\n",
       "4              4.6           3.1            1.5           0.2        0\n",
       "5              5.0           3.6            1.4           0.2        0\n",
       "..             ...           ...            ...           ...      ...\n",
       "146            6.7           3.0            5.2           2.3        2\n",
       "147            6.3           2.5            5.0           1.9        2\n",
       "148            6.5           3.0            5.2           2.0        2\n",
       "149            6.2           3.4            5.4           2.3        2\n",
       "150            5.9           3.0            5.1           1.8        2\n",
       "\n",
       "[150 rows x 5 columns]"
      ]
     },
     "execution_count": 123,
     "metadata": {},
     "output_type": "execute_result"
    }
   ],
   "source": [
    "iris"
   ]
  },
  {
   "cell_type": "markdown",
   "id": "6d169826",
   "metadata": {},
   "source": [
    "### 15. Create a new column named \"species_type\" in the Iris dataset that maps the species names to specific types based on their initial letters. Use \"S\" for species starting with 'Iris setosa', \"V\" for species starting with 'Iris versicolor', and \"G\" for species starting with 'Iris virginica'."
   ]
  },
  {
   "cell_type": "code",
   "execution_count": 53,
   "id": "e7628b04",
   "metadata": {},
   "outputs": [],
   "source": [
    "Species=iris[[\"SepalLengthCm\",\"SepalWidthCm\",\"PetalLengthCm\",\"PetalWidthCm\"]]"
   ]
  },
  {
   "cell_type": "code",
   "execution_count": 54,
   "id": "5a042f17",
   "metadata": {},
   "outputs": [],
   "source": [
    "species_type=iris[\"Species\"].map({\"Iris-setosa\":\"S\",\"Iris-versicolor\":\"V\",\"Iris-virginica\":\"G\"})\n"
   ]
  },
  {
   "cell_type": "code",
   "execution_count": 55,
   "id": "f980513c",
   "metadata": {},
   "outputs": [
    {
     "data": {
      "text/html": [
       "<div>\n",
       "<style scoped>\n",
       "    .dataframe tbody tr th:only-of-type {\n",
       "        vertical-align: middle;\n",
       "    }\n",
       "\n",
       "    .dataframe tbody tr th {\n",
       "        vertical-align: top;\n",
       "    }\n",
       "\n",
       "    .dataframe thead th {\n",
       "        text-align: right;\n",
       "    }\n",
       "</style>\n",
       "<table border=\"1\" class=\"dataframe\">\n",
       "  <thead>\n",
       "    <tr style=\"text-align: right;\">\n",
       "      <th></th>\n",
       "      <th>SepalLengthCm</th>\n",
       "      <th>SepalWidthCm</th>\n",
       "      <th>PetalLengthCm</th>\n",
       "      <th>PetalWidthCm</th>\n",
       "      <th>species_type</th>\n",
       "    </tr>\n",
       "    <tr>\n",
       "      <th>Id</th>\n",
       "      <th></th>\n",
       "      <th></th>\n",
       "      <th></th>\n",
       "      <th></th>\n",
       "      <th></th>\n",
       "    </tr>\n",
       "  </thead>\n",
       "  <tbody>\n",
       "    <tr>\n",
       "      <th>1</th>\n",
       "      <td>5.1</td>\n",
       "      <td>3.5</td>\n",
       "      <td>1.4</td>\n",
       "      <td>0.2</td>\n",
       "      <td>S</td>\n",
       "    </tr>\n",
       "    <tr>\n",
       "      <th>2</th>\n",
       "      <td>4.9</td>\n",
       "      <td>3.0</td>\n",
       "      <td>1.4</td>\n",
       "      <td>0.2</td>\n",
       "      <td>S</td>\n",
       "    </tr>\n",
       "    <tr>\n",
       "      <th>3</th>\n",
       "      <td>4.7</td>\n",
       "      <td>3.2</td>\n",
       "      <td>1.3</td>\n",
       "      <td>0.2</td>\n",
       "      <td>S</td>\n",
       "    </tr>\n",
       "    <tr>\n",
       "      <th>4</th>\n",
       "      <td>4.6</td>\n",
       "      <td>3.1</td>\n",
       "      <td>1.5</td>\n",
       "      <td>0.2</td>\n",
       "      <td>S</td>\n",
       "    </tr>\n",
       "    <tr>\n",
       "      <th>5</th>\n",
       "      <td>5.0</td>\n",
       "      <td>3.6</td>\n",
       "      <td>1.4</td>\n",
       "      <td>0.2</td>\n",
       "      <td>S</td>\n",
       "    </tr>\n",
       "    <tr>\n",
       "      <th>...</th>\n",
       "      <td>...</td>\n",
       "      <td>...</td>\n",
       "      <td>...</td>\n",
       "      <td>...</td>\n",
       "      <td>...</td>\n",
       "    </tr>\n",
       "    <tr>\n",
       "      <th>146</th>\n",
       "      <td>6.7</td>\n",
       "      <td>3.0</td>\n",
       "      <td>5.2</td>\n",
       "      <td>2.3</td>\n",
       "      <td>G</td>\n",
       "    </tr>\n",
       "    <tr>\n",
       "      <th>147</th>\n",
       "      <td>6.3</td>\n",
       "      <td>2.5</td>\n",
       "      <td>5.0</td>\n",
       "      <td>1.9</td>\n",
       "      <td>G</td>\n",
       "    </tr>\n",
       "    <tr>\n",
       "      <th>148</th>\n",
       "      <td>6.5</td>\n",
       "      <td>3.0</td>\n",
       "      <td>5.2</td>\n",
       "      <td>2.0</td>\n",
       "      <td>G</td>\n",
       "    </tr>\n",
       "    <tr>\n",
       "      <th>149</th>\n",
       "      <td>6.2</td>\n",
       "      <td>3.4</td>\n",
       "      <td>5.4</td>\n",
       "      <td>2.3</td>\n",
       "      <td>G</td>\n",
       "    </tr>\n",
       "    <tr>\n",
       "      <th>150</th>\n",
       "      <td>5.9</td>\n",
       "      <td>3.0</td>\n",
       "      <td>5.1</td>\n",
       "      <td>1.8</td>\n",
       "      <td>G</td>\n",
       "    </tr>\n",
       "  </tbody>\n",
       "</table>\n",
       "<p>150 rows × 5 columns</p>\n",
       "</div>"
      ],
      "text/plain": [
       "     SepalLengthCm  SepalWidthCm  PetalLengthCm  PetalWidthCm species_type\n",
       "Id                                                                        \n",
       "1              5.1           3.5            1.4           0.2            S\n",
       "2              4.9           3.0            1.4           0.2            S\n",
       "3              4.7           3.2            1.3           0.2            S\n",
       "4              4.6           3.1            1.5           0.2            S\n",
       "5              5.0           3.6            1.4           0.2            S\n",
       "..             ...           ...            ...           ...          ...\n",
       "146            6.7           3.0            5.2           2.3            G\n",
       "147            6.3           2.5            5.0           1.9            G\n",
       "148            6.5           3.0            5.2           2.0            G\n",
       "149            6.2           3.4            5.4           2.3            G\n",
       "150            5.9           3.0            5.1           1.8            G\n",
       "\n",
       "[150 rows x 5 columns]"
      ]
     },
     "execution_count": 55,
     "metadata": {},
     "output_type": "execute_result"
    }
   ],
   "source": [
    "iris_type=pd.concat([Species,species_type],axis=\"columns\")\n",
    "iris_type.rename(columns={\"Species\":\"species_type\"})"
   ]
  },
  {
   "cell_type": "markdown",
   "id": "46170dda",
   "metadata": {},
   "source": [
    "###### or"
   ]
  },
  {
   "cell_type": "code",
   "execution_count": 124,
   "id": "82b06177",
   "metadata": {},
   "outputs": [
    {
     "data": {
      "text/html": [
       "<div>\n",
       "<style scoped>\n",
       "    .dataframe tbody tr th:only-of-type {\n",
       "        vertical-align: middle;\n",
       "    }\n",
       "\n",
       "    .dataframe tbody tr th {\n",
       "        vertical-align: top;\n",
       "    }\n",
       "\n",
       "    .dataframe thead th {\n",
       "        text-align: right;\n",
       "    }\n",
       "</style>\n",
       "<table border=\"1\" class=\"dataframe\">\n",
       "  <thead>\n",
       "    <tr style=\"text-align: right;\">\n",
       "      <th></th>\n",
       "      <th>SepalLengthCm</th>\n",
       "      <th>SepalWidthCm</th>\n",
       "      <th>PetalLengthCm</th>\n",
       "      <th>PetalWidthCm</th>\n",
       "      <th>Species</th>\n",
       "      <th>species_type</th>\n",
       "    </tr>\n",
       "    <tr>\n",
       "      <th>Id</th>\n",
       "      <th></th>\n",
       "      <th></th>\n",
       "      <th></th>\n",
       "      <th></th>\n",
       "      <th></th>\n",
       "      <th></th>\n",
       "    </tr>\n",
       "  </thead>\n",
       "  <tbody>\n",
       "    <tr>\n",
       "      <th>1</th>\n",
       "      <td>5.1</td>\n",
       "      <td>3.5</td>\n",
       "      <td>1.4</td>\n",
       "      <td>0.2</td>\n",
       "      <td>0</td>\n",
       "      <td>NaN</td>\n",
       "    </tr>\n",
       "    <tr>\n",
       "      <th>2</th>\n",
       "      <td>4.9</td>\n",
       "      <td>3.0</td>\n",
       "      <td>1.4</td>\n",
       "      <td>0.2</td>\n",
       "      <td>0</td>\n",
       "      <td>NaN</td>\n",
       "    </tr>\n",
       "    <tr>\n",
       "      <th>3</th>\n",
       "      <td>4.7</td>\n",
       "      <td>3.2</td>\n",
       "      <td>1.3</td>\n",
       "      <td>0.2</td>\n",
       "      <td>0</td>\n",
       "      <td>NaN</td>\n",
       "    </tr>\n",
       "    <tr>\n",
       "      <th>4</th>\n",
       "      <td>4.6</td>\n",
       "      <td>3.1</td>\n",
       "      <td>1.5</td>\n",
       "      <td>0.2</td>\n",
       "      <td>0</td>\n",
       "      <td>NaN</td>\n",
       "    </tr>\n",
       "    <tr>\n",
       "      <th>5</th>\n",
       "      <td>5.0</td>\n",
       "      <td>3.6</td>\n",
       "      <td>1.4</td>\n",
       "      <td>0.2</td>\n",
       "      <td>0</td>\n",
       "      <td>NaN</td>\n",
       "    </tr>\n",
       "    <tr>\n",
       "      <th>...</th>\n",
       "      <td>...</td>\n",
       "      <td>...</td>\n",
       "      <td>...</td>\n",
       "      <td>...</td>\n",
       "      <td>...</td>\n",
       "      <td>...</td>\n",
       "    </tr>\n",
       "    <tr>\n",
       "      <th>146</th>\n",
       "      <td>6.7</td>\n",
       "      <td>3.0</td>\n",
       "      <td>5.2</td>\n",
       "      <td>2.3</td>\n",
       "      <td>2</td>\n",
       "      <td>NaN</td>\n",
       "    </tr>\n",
       "    <tr>\n",
       "      <th>147</th>\n",
       "      <td>6.3</td>\n",
       "      <td>2.5</td>\n",
       "      <td>5.0</td>\n",
       "      <td>1.9</td>\n",
       "      <td>2</td>\n",
       "      <td>NaN</td>\n",
       "    </tr>\n",
       "    <tr>\n",
       "      <th>148</th>\n",
       "      <td>6.5</td>\n",
       "      <td>3.0</td>\n",
       "      <td>5.2</td>\n",
       "      <td>2.0</td>\n",
       "      <td>2</td>\n",
       "      <td>NaN</td>\n",
       "    </tr>\n",
       "    <tr>\n",
       "      <th>149</th>\n",
       "      <td>6.2</td>\n",
       "      <td>3.4</td>\n",
       "      <td>5.4</td>\n",
       "      <td>2.3</td>\n",
       "      <td>2</td>\n",
       "      <td>NaN</td>\n",
       "    </tr>\n",
       "    <tr>\n",
       "      <th>150</th>\n",
       "      <td>5.9</td>\n",
       "      <td>3.0</td>\n",
       "      <td>5.1</td>\n",
       "      <td>1.8</td>\n",
       "      <td>2</td>\n",
       "      <td>NaN</td>\n",
       "    </tr>\n",
       "  </tbody>\n",
       "</table>\n",
       "<p>150 rows × 6 columns</p>\n",
       "</div>"
      ],
      "text/plain": [
       "     SepalLengthCm  SepalWidthCm  PetalLengthCm  PetalWidthCm  Species  \\\n",
       "Id                                                                       \n",
       "1              5.1           3.5            1.4           0.2        0   \n",
       "2              4.9           3.0            1.4           0.2        0   \n",
       "3              4.7           3.2            1.3           0.2        0   \n",
       "4              4.6           3.1            1.5           0.2        0   \n",
       "5              5.0           3.6            1.4           0.2        0   \n",
       "..             ...           ...            ...           ...      ...   \n",
       "146            6.7           3.0            5.2           2.3        2   \n",
       "147            6.3           2.5            5.0           1.9        2   \n",
       "148            6.5           3.0            5.2           2.0        2   \n",
       "149            6.2           3.4            5.4           2.3        2   \n",
       "150            5.9           3.0            5.1           1.8        2   \n",
       "\n",
       "    species_type  \n",
       "Id                \n",
       "1            NaN  \n",
       "2            NaN  \n",
       "3            NaN  \n",
       "4            NaN  \n",
       "5            NaN  \n",
       "..           ...  \n",
       "146          NaN  \n",
       "147          NaN  \n",
       "148          NaN  \n",
       "149          NaN  \n",
       "150          NaN  \n",
       "\n",
       "[150 rows x 6 columns]"
      ]
     },
     "execution_count": 124,
     "metadata": {},
     "output_type": "execute_result"
    }
   ],
   "source": [
    "iris[\"species_type\"]=iris[\"Species\"].map({\"Iris-setosa\":\"S\",\"Iris-versicolor\":\"V\",\"Iris-virginica\":\"G\"})\n",
    "iris"
   ]
  },
  {
   "cell_type": "markdown",
   "id": "5736517e",
   "metadata": {},
   "source": [
    "# Advanced"
   ]
  },
  {
   "cell_type": "markdown",
   "id": "bf3084ee",
   "metadata": {},
   "source": [
    "### 1. Create a new column named \"sepal_length_category\" that maps the sepal length to categories as follows: \"Short\" for sepal length less than 5.5 cm, \"Medium\" for sepal length between 5.5 cm and 6.5 cm (inclusive), and \"Long\" for sepal length greater than 6.5 cm."
   ]
  },
  {
   "cell_type": "code",
   "execution_count": 57,
   "id": "ba1ba4f6",
   "metadata": {},
   "outputs": [
    {
     "ename": "KeyError",
     "evalue": "'sepal_length_category'",
     "output_type": "error",
     "traceback": [
      "\u001b[1;31m---------------------------------------------------------------------------\u001b[0m",
      "\u001b[1;31mKeyError\u001b[0m                                  Traceback (most recent call last)",
      "File \u001b[1;32mC:\\ProgramData\\anaconda3\\lib\\site-packages\\pandas\\core\\indexes\\base.py:3802\u001b[0m, in \u001b[0;36mIndex.get_loc\u001b[1;34m(self, key, method, tolerance)\u001b[0m\n\u001b[0;32m   3801\u001b[0m \u001b[38;5;28;01mtry\u001b[39;00m:\n\u001b[1;32m-> 3802\u001b[0m     \u001b[38;5;28;01mreturn\u001b[39;00m \u001b[38;5;28;43mself\u001b[39;49m\u001b[38;5;241;43m.\u001b[39;49m\u001b[43m_engine\u001b[49m\u001b[38;5;241;43m.\u001b[39;49m\u001b[43mget_loc\u001b[49m\u001b[43m(\u001b[49m\u001b[43mcasted_key\u001b[49m\u001b[43m)\u001b[49m\n\u001b[0;32m   3803\u001b[0m \u001b[38;5;28;01mexcept\u001b[39;00m \u001b[38;5;167;01mKeyError\u001b[39;00m \u001b[38;5;28;01mas\u001b[39;00m err:\n",
      "File \u001b[1;32mC:\\ProgramData\\anaconda3\\lib\\site-packages\\pandas\\_libs\\index.pyx:138\u001b[0m, in \u001b[0;36mpandas._libs.index.IndexEngine.get_loc\u001b[1;34m()\u001b[0m\n",
      "File \u001b[1;32mC:\\ProgramData\\anaconda3\\lib\\site-packages\\pandas\\_libs\\index.pyx:165\u001b[0m, in \u001b[0;36mpandas._libs.index.IndexEngine.get_loc\u001b[1;34m()\u001b[0m\n",
      "File \u001b[1;32mpandas\\_libs\\hashtable_class_helper.pxi:5745\u001b[0m, in \u001b[0;36mpandas._libs.hashtable.PyObjectHashTable.get_item\u001b[1;34m()\u001b[0m\n",
      "File \u001b[1;32mpandas\\_libs\\hashtable_class_helper.pxi:5753\u001b[0m, in \u001b[0;36mpandas._libs.hashtable.PyObjectHashTable.get_item\u001b[1;34m()\u001b[0m\n",
      "\u001b[1;31mKeyError\u001b[0m: 'sepal_length_category'",
      "\nThe above exception was the direct cause of the following exception:\n",
      "\u001b[1;31mKeyError\u001b[0m                                  Traceback (most recent call last)",
      "Cell \u001b[1;32mIn[57], line 1\u001b[0m\n\u001b[1;32m----> 1\u001b[0m iris[iris\u001b[38;5;241m.\u001b[39mloc[:,\u001b[38;5;124m\"\u001b[39m\u001b[38;5;124mSepalLengthCm\u001b[39m\u001b[38;5;124m\"\u001b[39m]\u001b[38;5;241m<\u001b[39m\u001b[38;5;241m5.5\u001b[39m , \u001b[43miris\u001b[49m\u001b[43m[\u001b[49m\u001b[38;5;124;43m\"\u001b[39;49m\u001b[38;5;124;43msepal_length_category\u001b[39;49m\u001b[38;5;124;43m\"\u001b[39;49m\u001b[43m]\u001b[49m\u001b[38;5;241m==\u001b[39m\u001b[38;5;124m\"\u001b[39m\u001b[38;5;124mShort\u001b[39m\u001b[38;5;124m\"\u001b[39m]\n",
      "File \u001b[1;32mC:\\ProgramData\\anaconda3\\lib\\site-packages\\pandas\\core\\frame.py:3807\u001b[0m, in \u001b[0;36mDataFrame.__getitem__\u001b[1;34m(self, key)\u001b[0m\n\u001b[0;32m   3805\u001b[0m \u001b[38;5;28;01mif\u001b[39;00m \u001b[38;5;28mself\u001b[39m\u001b[38;5;241m.\u001b[39mcolumns\u001b[38;5;241m.\u001b[39mnlevels \u001b[38;5;241m>\u001b[39m \u001b[38;5;241m1\u001b[39m:\n\u001b[0;32m   3806\u001b[0m     \u001b[38;5;28;01mreturn\u001b[39;00m \u001b[38;5;28mself\u001b[39m\u001b[38;5;241m.\u001b[39m_getitem_multilevel(key)\n\u001b[1;32m-> 3807\u001b[0m indexer \u001b[38;5;241m=\u001b[39m \u001b[38;5;28;43mself\u001b[39;49m\u001b[38;5;241;43m.\u001b[39;49m\u001b[43mcolumns\u001b[49m\u001b[38;5;241;43m.\u001b[39;49m\u001b[43mget_loc\u001b[49m\u001b[43m(\u001b[49m\u001b[43mkey\u001b[49m\u001b[43m)\u001b[49m\n\u001b[0;32m   3808\u001b[0m \u001b[38;5;28;01mif\u001b[39;00m is_integer(indexer):\n\u001b[0;32m   3809\u001b[0m     indexer \u001b[38;5;241m=\u001b[39m [indexer]\n",
      "File \u001b[1;32mC:\\ProgramData\\anaconda3\\lib\\site-packages\\pandas\\core\\indexes\\base.py:3804\u001b[0m, in \u001b[0;36mIndex.get_loc\u001b[1;34m(self, key, method, tolerance)\u001b[0m\n\u001b[0;32m   3802\u001b[0m     \u001b[38;5;28;01mreturn\u001b[39;00m \u001b[38;5;28mself\u001b[39m\u001b[38;5;241m.\u001b[39m_engine\u001b[38;5;241m.\u001b[39mget_loc(casted_key)\n\u001b[0;32m   3803\u001b[0m \u001b[38;5;28;01mexcept\u001b[39;00m \u001b[38;5;167;01mKeyError\u001b[39;00m \u001b[38;5;28;01mas\u001b[39;00m err:\n\u001b[1;32m-> 3804\u001b[0m     \u001b[38;5;28;01mraise\u001b[39;00m \u001b[38;5;167;01mKeyError\u001b[39;00m(key) \u001b[38;5;28;01mfrom\u001b[39;00m \u001b[38;5;21;01merr\u001b[39;00m\n\u001b[0;32m   3805\u001b[0m \u001b[38;5;28;01mexcept\u001b[39;00m \u001b[38;5;167;01mTypeError\u001b[39;00m:\n\u001b[0;32m   3806\u001b[0m     \u001b[38;5;66;03m# If we have a listlike key, _check_indexing_error will raise\u001b[39;00m\n\u001b[0;32m   3807\u001b[0m     \u001b[38;5;66;03m#  InvalidIndexError. Otherwise we fall through and re-raise\u001b[39;00m\n\u001b[0;32m   3808\u001b[0m     \u001b[38;5;66;03m#  the TypeError.\u001b[39;00m\n\u001b[0;32m   3809\u001b[0m     \u001b[38;5;28mself\u001b[39m\u001b[38;5;241m.\u001b[39m_check_indexing_error(key)\n",
      "\u001b[1;31mKeyError\u001b[0m: 'sepal_length_category'"
     ]
    }
   ],
   "source": [
    "iris[iris.loc[:,\"SepalLengthCm\"]<5.5 , iris[\"sepal_length_category\"]==\"Short\"]"
   ]
  },
  {
   "cell_type": "code",
   "execution_count": null,
   "id": "a71df49e",
   "metadata": {
    "scrolled": false
   },
   "outputs": [],
   "source": [
    "iris[\"sepal_length_category1\"]=iris[\"SepalLengthCm\"].apply(lambda x:x<5.5 )\n",
    "iris[\"sepal_length_category1\"]"
   ]
  },
  {
   "cell_type": "code",
   "execution_count": null,
   "id": "2ccd1aa1",
   "metadata": {},
   "outputs": [],
   "source": [
    "iris[\"SepalLengthCm\"].map(iris[\"sepal_length_category1\"])"
   ]
  },
  {
   "cell_type": "code",
   "execution_count": null,
   "id": "6a7c73da",
   "metadata": {},
   "outputs": [],
   "source": [
    "iris[\"sepal_length_category1\"]=iris[\"SepalLengthCm\"].apply(lambda x: \"Short\" if x<5.5 else \"Medium\")\n",
    "iris[\"sepal_length_category1\"]"
   ]
  },
  {
   "cell_type": "code",
   "execution_count": null,
   "id": "dd60e707",
   "metadata": {},
   "outputs": [],
   "source": [
    "iris[\"sepal_length_category2\"]=iris[\"SepalLengthCm\"].apply(lambda x: \"Medium\" if (x=>5.5 and x=<6.5) else \"Long\" )\n",
    "iris"
   ]
  },
  {
   "cell_type": "code",
   "execution_count": null,
   "id": "92bac4cc",
   "metadata": {},
   "outputs": [],
   "source": [
    "iris[\"sepal_length_category3\"]=iris[\"SepalLengthCm\"].apply(lambda x: \"Long\" if x>6.5 else \"Medium\")\n",
    "iris[\"sepal_length_category3\"]"
   ]
  },
  {
   "cell_type": "code",
   "execution_count": null,
   "id": "d9e00880",
   "metadata": {},
   "outputs": [],
   "source": [
    "sepal_iris=[[iris[\"sepal_length_category1\"],iris[\"sepal_length_category3\"]]]"
   ]
  },
  {
   "cell_type": "code",
   "execution_count": null,
   "id": "1287e4b7",
   "metadata": {
    "scrolled": true
   },
   "outputs": [],
   "source": [
    "iris[\"sepal_length_category\"]=pd.concat(sepal_iris,join=\"outer\")"
   ]
  },
  {
   "cell_type": "code",
   "execution_count": null,
   "id": "6277642f",
   "metadata": {},
   "outputs": [],
   "source": [
    "iris[iris.loc[:,\"SepalLengthCm\"]<5.5 , iris[\"sepal_length_category\"]==\"Short\"]\n",
    "iris[iris.loc[:,\"SepalLengthCm\"].between(5.5,6.5), iris[\"sepal_length_category\"]==\"Medium\"]\n",
    "iris[iris.loc[:,\"SepalLengthCm\"]>6.5, iris[\"sepal_length_category\"]==\"Long\"]\n",
    "iris"
   ]
  },
  {
   "cell_type": "code",
   "execution_count": null,
   "id": "a233b6a4",
   "metadata": {},
   "outputs": [],
   "source": [
    "SepalLengthCm=pd.Dataframe(iris[iris[\"SepalLengthCm\"].between(5.5,6.5)])"
   ]
  },
  {
   "cell_type": "code",
   "execution_count": null,
   "id": "4b92a61f",
   "metadata": {},
   "outputs": [],
   "source": [
    "\n",
    "iris.replace(less,\"Short\")\n",
    "SepalLengthCm(between,\"Medium\")\n",
    "SepalLengthCm=(greater,\"Long\")"
   ]
  },
  {
   "cell_type": "code",
   "execution_count": null,
   "id": "3e0f60ee",
   "metadata": {},
   "outputs": [],
   "source": [
    "iris"
   ]
  },
  {
   "cell_type": "code",
   "execution_count": null,
   "id": "d33ee194",
   "metadata": {},
   "outputs": [],
   "source": []
  },
  {
   "cell_type": "code",
   "execution_count": null,
   "id": "f16c6c23",
   "metadata": {},
   "outputs": [],
   "source": []
  },
  {
   "cell_type": "code",
   "execution_count": null,
   "id": "effaa5e8",
   "metadata": {},
   "outputs": [],
   "source": [
    "sepal_length_category=iris[\"SepalLengthCm\"].map({\"iris[iris[\"SepalLengthCm\"]<5.5]\":[\"Short\"],\n",
    "                                                 \"iris[iris[\"SepalLengthCm\"].between(5.5,6.5)]\":[\"Medium\"],\n",
    "                                                 \"iris[iris[\"SepalLengthCm\"]>6.5]\":[\"Long\"]})"
   ]
  },
  {
   "cell_type": "code",
   "execution_count": null,
   "id": "fdb1b26f",
   "metadata": {},
   "outputs": [],
   "source": [
    "iris[\"SepalLengthCm\"].map({(iris[\"SepalLengthCm\"]<5.5):\"Short\",(iris[\"SepalLengthCm\"]<=5.5 & iris[\"SepalLengthCm\"]>=6.5):\"Medium\",(iris[\"SepalLengthCm\"]>6.5):\"Long\"})"
   ]
  },
  {
   "cell_type": "code",
   "execution_count": null,
   "id": "642c08b0",
   "metadata": {},
   "outputs": [],
   "source": [
    "btwn=iris[\"SepalLengthCm\"]<=5.5 and iris[\"SepalLengthCm\"]>=6.5"
   ]
  },
  {
   "cell_type": "code",
   "execution_count": null,
   "id": "34b9dc8b",
   "metadata": {},
   "outputs": [],
   "source": []
  },
  {
   "cell_type": "markdown",
   "id": "187e4946",
   "metadata": {},
   "source": [
    "### 2. Use the map() function to replace the values in the \"species\" column with their corresponding full species names, e.g., 0 with \"Iris setosa\", 1 with \"Iris versicolor\", and 2 with \"Iris virginica\".\n"
   ]
  },
  {
   "cell_type": "code",
   "execution_count": null,
   "id": "60d5e17e",
   "metadata": {},
   "outputs": [],
   "source": [
    "iris"
   ]
  },
  {
   "cell_type": "code",
   "execution_count": null,
   "id": "733caee3",
   "metadata": {},
   "outputs": [],
   "source": [
    "iris_1"
   ]
  },
  {
   "cell_type": "code",
   "execution_count": null,
   "id": "926375b8",
   "metadata": {},
   "outputs": [],
   "source": [
    "iris_1[\"Species\"].map({0:\"Iris-setosa\",1:\"Iris-versicolor\",2:\"Iris-virginica\"})"
   ]
  },
  {
   "cell_type": "code",
   "execution_count": null,
   "id": "a45bf7c0",
   "metadata": {},
   "outputs": [],
   "source": [
    "iri"
   ]
  },
  {
   "cell_type": "code",
   "execution_count": null,
   "id": "ded5e1ae",
   "metadata": {},
   "outputs": [],
   "source": [
    "old_iris=iris[[\"SepalLengthCm\",\"SepalWidthCm\",\"PetalLengthCm\",\"PetalWidthCm\"]]"
   ]
  },
  {
   "cell_type": "code",
   "execution_count": null,
   "id": "d349de01",
   "metadata": {},
   "outputs": [],
   "source": [
    "species=pd.concat([old_iris,iris_1])\n",
    "species"
   ]
  },
  {
   "cell_type": "markdown",
   "id": "50b0f0dd",
   "metadata": {},
   "source": [
    "### 3. Create a new column named \"petal_length_label\" that maps the petal length values to \"Short\", \"Medium\", or \"Long\" based on the quartiles of the petal length distribution (e.g., below 25th percentile: \"Short\", between 25th and 75th percentile: \"Medium\", above 75th percentile: \"Long\").\n"
   ]
  },
  {
   "cell_type": "code",
   "execution_count": null,
   "id": "9f4e4906",
   "metadata": {},
   "outputs": [],
   "source": [
    "iris[\"PetalLengthCm\"].unique()"
   ]
  },
  {
   "cell_type": "code",
   "execution_count": null,
   "id": "0d103202",
   "metadata": {},
   "outputs": [],
   "source": [
    "iris[\"PetalLengthCm\"]<"
   ]
  },
  {
   "cell_type": "markdown",
   "id": "680a0d2c",
   "metadata": {},
   "source": [
    "### 4. Map the sepal width values to \"Narrow\" if they are less than 3.0 cm, and \"Wide\" if they are 3.0 cm or greater. Create a new column named \"sepal_width_type\" to store this information.\n"
   ]
  },
  {
   "cell_type": "code",
   "execution_count": null,
   "id": "335fac8a",
   "metadata": {},
   "outputs": [],
   "source": [
    "iris[\"sepal_width_type\"]=iris[\"SepalWidthCm\"].apply(lambda x: \"Narrow\" if x<3.0 else \"Wide\")\n",
    "iris"
   ]
  },
  {
   "cell_type": "code",
   "execution_count": null,
   "id": "2651081f",
   "metadata": {
    "scrolled": true
   },
   "outputs": [],
   "source": [
    "iris[\"SepalWidthCm\"].map({iris[\"SepalWidthCm\"]<3.0:\"Narrow\"})"
   ]
  },
  {
   "cell_type": "code",
   "execution_count": null,
   "id": "215da1c0",
   "metadata": {},
   "outputs": [],
   "source": [
    "less=iris[\"SepalWidthCm\"]<3.0"
   ]
  },
  {
   "cell_type": "code",
   "execution_count": null,
   "id": "f3a70d25",
   "metadata": {},
   "outputs": [],
   "source": [
    "equal=iris[\"SepalWidthCm\"]>=3.0"
   ]
  },
  {
   "cell_type": "code",
   "execution_count": null,
   "id": "607d666b",
   "metadata": {},
   "outputs": [],
   "source": [
    "iris[\"SepalWidthCm\"].map({\"less\":\"Narrow\"})"
   ]
  },
  {
   "cell_type": "code",
   "execution_count": null,
   "id": "96e7b53f",
   "metadata": {},
   "outputs": [],
   "source": []
  },
  {
   "cell_type": "markdown",
   "id": "5a56c1b6",
   "metadata": {},
   "source": [
    "### 5. Use the map() function to convert the \"species\" column to lowercase, so all species names are in lowercase letters."
   ]
  },
  {
   "cell_type": "code",
   "execution_count": null,
   "id": "b51d65cd",
   "metadata": {},
   "outputs": [],
   "source": [
    "iris_lc=iris[\"Species\"].map({\"Iris-setosa\":\"iris-setosa\",\"Iris-versicolor\":\"iris-versicolor\",\"Iris-virginica\":\"iris-virginica\"})\n",
    "iris_lc"
   ]
  },
  {
   "cell_type": "code",
   "execution_count": null,
   "id": "7a00bd2e",
   "metadata": {},
   "outputs": [],
   "source": [
    "iris_lc[S]"
   ]
  },
  {
   "cell_type": "markdown",
   "id": "d6996504",
   "metadata": {},
   "source": [
    "### 7. Create a new column named \"species_encoded\" that maps the species names to unique integer values, where \"Iris setosa\" is encoded as 0, \"Iris versicolor\" as 1, and \"Iris virginica\" as 2."
   ]
  },
  {
   "cell_type": "code",
   "execution_count": null,
   "id": "6f241a37",
   "metadata": {},
   "outputs": [],
   "source": [
    "iris[\"species_encoded\"]=iris[\"Species\"].map({\"Iris-setosa\":0,\"Iris-versicolor\":1,\"Iris-virginica\":2})\n",
    "iris"
   ]
  },
  {
   "cell_type": "markdown",
   "id": "1bf65b8f",
   "metadata": {},
   "source": [
    "### 8. Map the \"sepal_length\" values to the corresponding category labels \"Very Short\", \"Short\", \"Medium\", \"Long\", and \"Very Long\" based on custom-defined bins.\n"
   ]
  },
  {
   "cell_type": "code",
   "execution_count": null,
   "id": "451ccdf9",
   "metadata": {},
   "outputs": [],
   "source": [
    "pd.cut(iris_data['sepal_length'], bins=custom_bins, labels=['Short', 'Medium', 'Long'])"
   ]
  },
  {
   "cell_type": "code",
   "execution_count": null,
   "id": "26c56fa9",
   "metadata": {},
   "outputs": [],
   "source": []
  },
  {
   "cell_type": "markdown",
   "id": "4d75af9a",
   "metadata": {},
   "source": [
    "### 9. Use the map() function to replace the \"species_type\" values with their corresponding full names, e.g., \"S\" with \"Iris setosa\", \"V\" with \"Iris versicolor\", and \"G\" with \"Iris virginica\"."
   ]
  },
  {
   "cell_type": "code",
   "execution_count": null,
   "id": "0a725ed5",
   "metadata": {},
   "outputs": [],
   "source": [
    "\n",
    "iris[\"species_type\"].map({\"S\":\"Iris-setosa\",\"V\":\"Iris-versicolor\",\"G\":\"Iris-virginica\"})\n",
    "iris"
   ]
  },
  {
   "cell_type": "markdown",
   "id": "c39ebfa2",
   "metadata": {},
   "source": [
    "### 10. Create a new column named \"petal_width_type\" that maps the petal width values to \"Narrow\", \"Medium\", or \"Wide\" based on custom-defined bins"
   ]
  },
  {
   "cell_type": "code",
   "execution_count": null,
   "id": "63871f79",
   "metadata": {},
   "outputs": [],
   "source": []
  }
 ],
 "metadata": {
  "kernelspec": {
   "display_name": "Python 3 (ipykernel)",
   "language": "python",
   "name": "python3"
  },
  "language_info": {
   "codemirror_mode": {
    "name": "ipython",
    "version": 3
   },
   "file_extension": ".py",
   "mimetype": "text/x-python",
   "name": "python",
   "nbconvert_exporter": "python",
   "pygments_lexer": "ipython3",
   "version": "3.10.9"
  }
 },
 "nbformat": 4,
 "nbformat_minor": 5
}
